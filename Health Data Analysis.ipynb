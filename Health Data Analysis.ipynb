{
 "cells": [
  {
   "cell_type": "markdown",
   "metadata": {},
   "source": [
    "# SAMPLE HEALTH DATA ANALYSIS 1"
   ]
  },
  {
   "cell_type": "code",
   "execution_count": 1,
   "metadata": {},
   "outputs": [],
   "source": [
    "#importing pandas to retrieve data\n",
    "import pandas as pd\n"
   ]
  },
  {
   "cell_type": "code",
   "execution_count": 38,
   "metadata": {},
   "outputs": [],
   "source": [
    "#retrieving data from csv file\n",
    "health_data = pd.read_csv(\"d:\\hdata.csv\", header=0, sep=\",\")"
   ]
  },
  {
   "cell_type": "code",
   "execution_count": 39,
   "metadata": {},
   "outputs": [
    {
     "name": "stdout",
     "output_type": "stream",
     "text": [
      "   Duration  Average_Pulse  Max_Pulse  Calorie_Burnage  Hours_Work  \\\n",
      "0        30             70        125              240          20   \n",
      "1        30             85        120              260          17   \n",
      "2        45             90        135              275          14   \n",
      "3        45            100        130              282          12   \n",
      "4        45            105        140              285           0   \n",
      "5        60            110        145              290           6   \n",
      "6        60            120        150              355           9   \n",
      "7        60            130        150              370           7   \n",
      "8        75            135        155              400           0   \n",
      "9        75            140        160              450           8   \n",
      "\n",
      "   Hours_Sleep  \n",
      "0            6  \n",
      "1            6  \n",
      "2            6  \n",
      "3            8  \n",
      "4            8  \n",
      "5            9  \n",
      "6            9  \n",
      "7           10  \n",
      "8           11  \n",
      "9           14  \n"
     ]
    }
   ],
   "source": [
    "#printing out data after retrieving from csv \n",
    "print(health_data)"
   ]
  },
  {
   "cell_type": "code",
   "execution_count": 40,
   "metadata": {},
   "outputs": [],
   "source": [
    "#importing graph ploting library\n",
    "import matplotlib.pyplot as plt"
   ]
  },
  {
   "cell_type": "code",
   "execution_count": 49,
   "metadata": {},
   "outputs": [
    {
     "data": {
      "image/png": "[encoded data removed]",
      "text/plain": [
       "<Figure size 432x288 with 1 Axes>"
      ]
     },
     "metadata": {
      "needs_background": "light"
     },
     "output_type": "display_data"
    }
   ],
   "source": [
    "#plotting a graph from the data between two columns\n",
    "health_data.plot(x = \"Average_Pulse\", y=\"Calorie_Burnage\", kind=\"line\"),\n",
    "plt.ylim(ymin=0)\n",
    "plt.xlim(xmin=0)\n",
    "\n",
    "plt.show()"
   ]
  },
  {
   "cell_type": "code",
   "execution_count": 42,
   "metadata": {},
   "outputs": [
    {
     "name": "stdout",
     "output_type": "stream",
     "text": [
      "        Duration  Average_Pulse   Max_Pulse  Calorie_Burnage  Hours_Work  \\\n",
      "count  10.000000      10.000000   10.000000         10.00000   10.000000   \n",
      "mean   52.500000     108.500000  141.000000        320.70000    9.300000   \n",
      "std    16.201852      22.979459   13.291601         68.81061    6.617317   \n",
      "min    30.000000      70.000000  120.000000        240.00000    0.000000   \n",
      "25%    45.000000      92.500000  131.250000        276.75000    6.250000   \n",
      "50%    52.500000     107.500000  142.500000        287.50000    8.500000   \n",
      "75%    60.000000     127.500000  150.000000        366.25000   13.500000   \n",
      "max    75.000000     140.000000  160.000000        450.00000   20.000000   \n",
      "\n",
      "       Hours_Sleep  \n",
      "count    10.000000  \n",
      "mean      8.700000  \n",
      "std       2.540779  \n",
      "min       6.000000  \n",
      "25%       6.500000  \n",
      "50%       8.500000  \n",
      "75%       9.750000  \n",
      "max      14.000000  \n"
     ]
    }
   ],
   "source": [
    "#Generating a description of the data\n",
    "print(health_data.describe())"
   ]
  },
  {
   "cell_type": "code",
   "execution_count": 43,
   "metadata": {},
   "outputs": [],
   "source": [
    "#importing numpy library to perform statistical functions\n",
    "import numpy as np\n"
   ]
  },
  {
   "cell_type": "code",
   "execution_count": 44,
   "metadata": {},
   "outputs": [
    {
     "name": "stdout",
     "output_type": "stream",
     "text": [
      "124.5\n"
     ]
    }
   ],
   "source": [
    "#Generating 10% from the data for Max_Pulse column\n",
    "\n",
    "Max_Pulse = health_data[\"Max_Pulse\"]\n",
    "percentile10 =np.percentile(Max_Pulse, 10)\n",
    "print(percentile10)"
   ]
  },
  {
   "cell_type": "code",
   "execution_count": 45,
   "metadata": {},
   "outputs": [
    {
     "name": "stdout",
     "output_type": "stream",
     "text": [
      "Duration           15.370426\n",
      "Average_Pulse      21.800229\n",
      "Max_Pulse          12.609520\n",
      "Calorie_Burnage    65.279476\n",
      "Hours_Work          6.277738\n",
      "Hours_Sleep         2.410394\n",
      "dtype: float64\n"
     ]
    }
   ],
   "source": [
    "#Generating Standard Deviation from data\n",
    "std = np.std(health_data)\n",
    "print(std)"
   ]
  },
  {
   "cell_type": "code",
   "execution_count": 46,
   "metadata": {},
   "outputs": [
    {
     "name": "stdout",
     "output_type": "stream",
     "text": [
      "Duration           0.292770\n",
      "Average_Pulse      0.200924\n",
      "Max_Pulse          0.089429\n",
      "Calorie_Burnage    0.203553\n",
      "Hours_Work         0.675026\n",
      "Hours_Sleep        0.277057\n",
      "dtype: float64\n"
     ]
    }
   ],
   "source": [
    "#Generating coefficient of variance from data\n",
    "cv = np.std(health_data) / np.mean(health_data)\n",
    "print(cv)"
   ]
  },
  {
   "cell_type": "code",
   "execution_count": 47,
   "metadata": {},
   "outputs": [
    {
     "name": "stdout",
     "output_type": "stream",
     "text": [
      "Duration            236.25\n",
      "Average_Pulse       475.25\n",
      "Max_Pulse           159.00\n",
      "Calorie_Burnage    4261.41\n",
      "Hours_Work           39.41\n",
      "Hours_Sleep           5.81\n",
      "dtype: float64\n"
     ]
    }
   ],
   "source": [
    "#Generating variance from data\n",
    "var = np.var(health_data)\n",
    "print(var)"
   ]
  },
  {
   "cell_type": "code",
   "execution_count": 48,
   "metadata": {},
   "outputs": [
    {
     "data": {
      "image/png": "[encoded data removed]",
      "text/plain": [
       "<Figure size 432x288 with 1 Axes>"
      ]
     },
     "metadata": {
      "needs_background": "light"
     },
     "output_type": "display_data"
    }
   ],
   "source": [
    "#plotting correlation from data\n",
    "health_data.plot(x ='Average_Pulse', y='Calorie_Burnage', kind='scatter')\n",
    "plt.show()"
   ]
  },
  {
   "cell_type": "code",
   "execution_count": 50,
   "metadata": {},
   "outputs": [
    {
     "name": "stdout",
     "output_type": "stream",
     "text": [
      "                 Duration  Average_Pulse  Max_Pulse  Calorie_Burnage  \\\n",
      "Duration             1.00           0.95       0.97             0.91   \n",
      "Average_Pulse        0.95           1.00       0.94             0.94   \n",
      "Max_Pulse            0.97           0.94       1.00             0.91   \n",
      "Calorie_Burnage      0.91           0.94       0.91             1.00   \n",
      "Hours_Work          -0.71          -0.74      -0.72            -0.55   \n",
      "Hours_Sleep          0.91           0.92       0.90             0.95   \n",
      "\n",
      "                 Hours_Work  Hours_Sleep  \n",
      "Duration              -0.71         0.91  \n",
      "Average_Pulse         -0.74         0.92  \n",
      "Max_Pulse             -0.72         0.90  \n",
      "Calorie_Burnage       -0.55         0.95  \n",
      "Hours_Work             1.00        -0.60  \n",
      "Hours_Sleep           -0.60         1.00  \n"
     ]
    }
   ],
   "source": [
    "#plotting correlation Matrix from data\n",
    "Corr_Matrix = round(health_data.corr(),2)\n",
    "print(Corr_Matrix)"
   ]
  },
  {
   "cell_type": "code",
   "execution_count": null,
   "metadata": {},
   "outputs": [],
   "source": []
  }
 ],
 "metadata": {
  "kernelspec": {
   "display_name": "Python 3",
   "language": "python",
   "name": "python3"
  },
  "language_info": {
   "codemirror_mode": {
    "name": "ipython",
    "version": 3
   },
   "file_extension": ".py",
   "mimetype": "text/x-python",
   "name": "python",
   "nbconvert_exporter": "python",
   "pygments_lexer": "ipython3",
   "version": "3.8.2"
  }
 },
 "nbformat": 4,
 "nbformat_minor": 4
}
